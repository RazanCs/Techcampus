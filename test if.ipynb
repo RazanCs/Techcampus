{
 "cells": [
  {
   "cell_type": "code",
   "execution_count": 15,
   "id": "f1c1695a",
   "metadata": {},
   "outputs": [
    {
     "name": "stdout",
     "output_type": "stream",
     "text": [
      "I recommended it, It is good\n"
     ]
    }
   ],
   "source": [
    "x=\"frinds\"\n",
    "y=5\n",
    "rate = 3\n",
    "score=72.65\n",
    "if rate>=4 and score> 80:\n",
    "    print(\"Highly recommended\")\n",
    "elif rate>=3 and score>70:\n",
    "    print(\"I recommended it, It is good\") \n",
    "elif rate<=2 and score>60:\n",
    "     print(\"You should check it out!\")\n",
    "elif rate <= 2 and score < 50:\n",
    "       print(\"Don't watch it, It is a waste of time\")   "
   ]
  },
  {
   "cell_type": "code",
   "execution_count": null,
   "id": "7539341d",
   "metadata": {},
   "outputs": [],
   "source": []
  },
  {
   "cell_type": "code",
   "execution_count": null,
   "id": "a5325007",
   "metadata": {},
   "outputs": [],
   "source": []
  }
 ],
 "metadata": {
  "kernelspec": {
   "display_name": "Python 3 (ipykernel)",
   "language": "python",
   "name": "python3"
  },
  "language_info": {
   "codemirror_mode": {
    "name": "ipython",
    "version": 3
   },
   "file_extension": ".py",
   "mimetype": "text/x-python",
   "name": "python",
   "nbconvert_exporter": "python",
   "pygments_lexer": "ipython3",
   "version": "3.9.12"
  }
 },
 "nbformat": 4,
 "nbformat_minor": 5
}
